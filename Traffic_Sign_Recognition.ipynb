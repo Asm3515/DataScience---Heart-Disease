{
  "nbformat": 4,
  "nbformat_minor": 0,
  "metadata": {
    "colab": {
      "provenance": [],
      "authorship_tag": "ABX9TyOX8kiYmCXqydau1VLxz3N1",
      "include_colab_link": true
    },
    "kernelspec": {
      "name": "python3",
      "display_name": "Python 3"
    },
    "language_info": {
      "name": "python"
    }
  },
  "cells": [
    {
      "cell_type": "markdown",
      "metadata": {
        "id": "view-in-github",
        "colab_type": "text"
      },
      "source": [
        "<a href=\"https://colab.research.google.com/github/Asm3515/DataScience---Heart-Disease/blob/main/Traffic_Sign_Recognition.ipynb\" target=\"_parent\"><img src=\"https://colab.research.google.com/assets/colab-badge.svg\" alt=\"Open In Colab\"/></a>"
      ]
    },
    {
      "cell_type": "markdown",
      "source": [
        "**Traffic Sign Recognition Project**"
      ],
      "metadata": {
        "id": "qnVtvjDQrW6-"
      }
    },
    {
      "cell_type": "code",
      "source": [],
      "metadata": {
        "id": "Mc9bn61frtkJ"
      },
      "execution_count": null,
      "outputs": []
    }
  ]
}